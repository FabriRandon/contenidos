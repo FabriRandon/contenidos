{
 "cells": [
  {
   "cell_type": "markdown",
   "metadata": {},
   "source": [
    "<p>\n",
    "<font size='5' face='Georgia, Arial'>IIC-2233 Apunte Programación Avanzada</font><br>\n",
    "<font size='1'> Ejercicios creados a partir de 2019-2 por Equipo Docente IIC2233. </font>\n",
    "<font size='1'> Actualizados en 2020-1.</font>\n",
    "</p>\n",
    "\n",
    "\n",
    "# Ejercicios propuestos: Estructuras de datos *built-ins*"
   ]
  },
  {
   "cell_type": "markdown",
   "metadata": {},
   "source": [
    "Los siguientes problemas se proveen como oportunidad de ejercitar los conceptos revisados en el material de **estructuras de datos *built-ins***. Si tienes dudas sobre algún problema o alguna solución, no dudes en dejar una *issue* en el [foro del curso](https://github.com/IIC2233/syllabus/issues).\n",
    "\n",
    "Los ejercicios se subdividen según la numeración de los cuadernos de la semana. Algunos de ellos se referencian desde los cuadernos de material mismo, mientras que pueden haber otros adicionales para mayor ejercitación."
   ]
  },
  {
   "cell_type": "markdown",
   "metadata": {},
   "source": [
    "## 2. Listas y tuplas"
   ]
  },
  {
   "cell_type": "markdown",
   "metadata": {},
   "source": [
    "### Ejercicio 2.1: ¡A jugar *Pro-Gra-Oh*!"
   ]
  },
  {
   "cell_type": "markdown",
   "metadata": {},
   "source": [
    "Debes simular una versión simplificada del famoso juego de cartas Pro-Gra-Oh!.\n",
    "\n",
    "Para lo anterior deberás cargar las cartas del archivo `cards.csv` (que se encuentra en este mismo directorio), en una estructura de datos adecuada, y completar las funciones que se encuentran a continuación.\n",
    "\n",
    "En una partida de este juego, cada jugador recibirá 5 cartas y atacará con una de sus cartas (aleatoriamente) a una de las cartas del otro jugador (también al azar). Al realizar el ataque, se comparan los puntos de ataque del atacante con los puntos de defensa del defensor; la carta con menor valor debe ser descartada de la mano del jugador.\n",
    "\n",
    "La partida termina cuando un jugador se queda sin cartas."
   ]
  },
  {
   "cell_type": "code",
   "execution_count": 256,
   "metadata": {},
   "outputs": [
    {
     "name": "stdout",
     "output_type": "stream",
     "text": [
      "[('Bracchio-raidus', '2200', '2000'), ('Number C43: High Manipulator of Chaos', '0', '0'), ('Evilswarm Exciton Knight', '1900', '0'), ('ABC-Dragon Buster', '3000', '2800'), ('Obnoxious Celtic Guard', '1400', '1200')]\n",
      "[('Peacock', '1700', '1500'), ('Alien Dog', '1500', '1000'), ('Orbital Hydralander', '3000', '1500'), ('Ally of Justice Rudra', '1900', '1200'), ('Cyberse Gadget', '1400', '300')]\n",
      "Turno número 1\n",
      ">>> Estado actual jugadores <<<\n",
      "Jugador 1:  [('Bracchio-raidus', '2200', '2000'), ('Number C43: High Manipulator of Chaos', '0', '0'), ('Evilswarm Exciton Knight', '1900', '0'), ('ABC-Dragon Buster', '3000', '2800'), ('Obnoxious Celtic Guard', '1400', '1200')]\n",
      "Jugador 2:  [('Alien Dog', '1500', '1000'), ('Orbital Hydralander', '3000', '1500'), ('Ally of Justice Rudra', '1900', '1200'), ('Cyberse Gadget', '1400', '300')]\n",
      "\n",
      "Turno número 2\n",
      ">>> Estado actual jugadores <<<\n",
      "Jugador 1:  [('Bracchio-raidus', '2200', '2000'), ('Evilswarm Exciton Knight', '1900', '0'), ('ABC-Dragon Buster', '3000', '2800'), ('Obnoxious Celtic Guard', '1400', '1200')]\n",
      "Jugador 2:  [('Alien Dog', '1500', '1000'), ('Orbital Hydralander', '3000', '1500'), ('Ally of Justice Rudra', '1900', '1200'), ('Cyberse Gadget', '1400', '300')]\n",
      "\n",
      "Turno número 3\n",
      ">>> Estado actual jugadores <<<\n",
      "Jugador 1:  [('Bracchio-raidus', '2200', '2000'), ('Evilswarm Exciton Knight', '1900', '0'), ('ABC-Dragon Buster', '3000', '2800'), ('Obnoxious Celtic Guard', '1400', '1200')]\n",
      "Jugador 2:  [('Orbital Hydralander', '3000', '1500'), ('Ally of Justice Rudra', '1900', '1200'), ('Cyberse Gadget', '1400', '300')]\n",
      "\n",
      "Turno número 4\n",
      ">>> Estado actual jugadores <<<\n",
      "Jugador 1:  [('Evilswarm Exciton Knight', '1900', '0'), ('ABC-Dragon Buster', '3000', '2800'), ('Obnoxious Celtic Guard', '1400', '1200')]\n",
      "Jugador 2:  [('Orbital Hydralander', '3000', '1500'), ('Ally of Justice Rudra', '1900', '1200'), ('Cyberse Gadget', '1400', '300')]\n",
      "\n",
      "Turno número 5\n",
      ">>> Estado actual jugadores <<<\n",
      "Jugador 1:  [('Evilswarm Exciton Knight', '1900', '0'), ('ABC-Dragon Buster', '3000', '2800'), ('Obnoxious Celtic Guard', '1400', '1200')]\n",
      "Jugador 2:  [('Orbital Hydralander', '3000', '1500'), ('Cyberse Gadget', '1400', '300')]\n",
      "\n",
      "Turno número 6\n",
      ">>> Estado actual jugadores <<<\n",
      "Jugador 1:  [('Evilswarm Exciton Knight', '1900', '0'), ('ABC-Dragon Buster', '3000', '2800')]\n",
      "Jugador 2:  [('Orbital Hydralander', '3000', '1500'), ('Cyberse Gadget', '1400', '300')]\n",
      "\n",
      "Turno número 7\n",
      ">>> Estado actual jugadores <<<\n",
      "Jugador 1:  [('Evilswarm Exciton Knight', '1900', '0'), ('ABC-Dragon Buster', '3000', '2800')]\n",
      "Jugador 2:  [('Cyberse Gadget', '1400', '300')]\n",
      "\n",
      "Turno número 8\n",
      ">>> Estado actual jugadores <<<\n",
      "Jugador 1:  [('Evilswarm Exciton Knight', '1900', '0'), ('ABC-Dragon Buster', '3000', '2800')]\n",
      "Jugador 2:  [('Cyberse Gadget', '1400', '300')]\n",
      "\n",
      "Turno número 9\n",
      ">>> Estado actual jugadores <<<\n",
      "Jugador 1:  [('Evilswarm Exciton Knight', '1900', '0'), ('ABC-Dragon Buster', '3000', '2800')]\n",
      "Jugador 2:  []\n",
      "\n"
     ]
    }
   ],
   "source": [
    "import random\n",
    "\n",
    "class Juego:\n",
    "\n",
    "    def __init__(self, turnos):\n",
    "        \n",
    "        self.mazo = []\n",
    "        self.cartas_j1 = []\n",
    "        self.cartas_j2 = []\n",
    "        \n",
    "        self.read_file()\n",
    "        self.repartir_cartas()\n",
    "        self.comenzar_juego(turnos)\n",
    "    \n",
    "    def read_file(self): #Check\n",
    "        \n",
    "        #Leemos el archivo cards.csv y lo guardamos en una lista donde cada elemento\n",
    "        #corresponde a una tupla.\n",
    "        with open(\"cards.csv\", 'r') as archivo:\n",
    "            lineas = archivo.readlines()\n",
    "            for i in range(len(lineas)):\n",
    "                linea_cocinada = lineas[i].strip().split(\",\")\n",
    "                linea_tuplada = tuple(linea_cocinada)\n",
    "                if(i != 0):\n",
    "                    self.mazo.append(linea_tuplada)\n",
    "\n",
    "        # Leer las cartas y guardarlas en una estructura de datos adecuada\n",
    "        # NOTA: la primera fila del archivo son los atributos de las cartas\n",
    "    \n",
    "    def repartir_cartas(self):\n",
    "        # Barajar las cartas y repartirlas de a 1\n",
    "\n",
    "        for i in range(5):\n",
    "            #Entregamos carta al jugador 1\n",
    "            azar1 = random.randint(a=0, b=len(self.mazo)-1)\n",
    "            carta_elegida1 = self.mazo.pop(azar1)\n",
    "            #print(len(self.mazo), \"<<<\")\n",
    "            self.cartas_j1.append(carta_elegida1)\n",
    "\n",
    "            #Entregamos carta al jugador 2\n",
    "            azar2 = random.randint(a=0, b=len(self.mazo)-1)\n",
    "            carta_elegida2 = self.mazo.pop(azar2)\n",
    "            self.cartas_j2.append(carta_elegida2)\n",
    "        \n",
    "        print(self.cartas_j1)\n",
    "        print(self.cartas_j2)\n",
    "    \n",
    "    \n",
    "    def atacar(self, mazo_atacante, mazo_defensor):\n",
    "\n",
    "        #Buscamos un numero al azar\n",
    "        azar_at = random.randint(0, len(mazo_atacante)-1)\n",
    "        #Sacamos una carta\n",
    "        carta_at = mazo_atacante[azar_at]\n",
    "\n",
    "        #Buscamos un numero al azar\n",
    "        azar_def = random.randint(0, len(mazo_defensor)-1)\n",
    "        #Sacamos una carta\n",
    "        carta_def = mazo_defensor[azar_def]\n",
    "\n",
    "        ptos_ataque = carta_at[1]\n",
    "        ptos_defensa = carta_def[2]\n",
    "\n",
    "        if ptos_ataque > ptos_defensa:\n",
    "            mazo_defensor.pop(azar_def)\n",
    "            return 1\n",
    "        elif ptos_defensa <= ptos_ataque:\n",
    "            mazo_atacante.pop(azar_at)\n",
    "            return 2\n",
    "        # Rellenar aquí\n",
    "    \n",
    "    def comenzar_juego(self, turnos):\n",
    "        for i in range(1, turnos + 1):\n",
    "            print(f\"Turno número {i}\")\n",
    "            if i % 2:\n",
    "                # Ataca el jugador 1\n",
    "                self.atacar(self.cartas_j1, self.cartas_j2)\n",
    "                print(\">>> Estado actual jugadores <<<\")\n",
    "                print(\"Jugador 1: \", self.cartas_j1)\n",
    "                print(\"Jugador 2: \", self.cartas_j2)\n",
    "                print()\n",
    "            else:\n",
    "                # Ataca el jugador 2\n",
    "                # Rellenar aquí\n",
    "                self.atacar(self.cartas_j2, self.cartas_j1)\n",
    "                print(\">>> Estado actual jugadores <<<\")\n",
    "                print(\"Jugador 1: \", self.cartas_j1)\n",
    "                print(\"Jugador 2: \", self.cartas_j2)\n",
    "                print()\n",
    "            \n",
    "            if(len(self.cartas_j1) == 0 or len(self.cartas_j2) == 0):\n",
    "                break\n",
    "\n",
    "\n",
    "juego = Juego(10)"
   ]
  },
  {
   "cell_type": "markdown",
   "metadata": {},
   "source": [
    "## 3. *Stacks*"
   ]
  },
  {
   "cell_type": "markdown",
   "metadata": {},
   "source": [
    "### Ejercicio 3.1: Torre de Hanói"
   ]
  },
  {
   "cell_type": "markdown",
   "metadata": {},
   "source": [
    "Una Torre de Hanói es un rompecabezas consistente en una serie de discos perforados que deben trasladarse desde su posición inicial en el primer pilar, ordenados desde el más grande abajo hasta el más pequeño arriba, hasta la misma posición pero en el tercer pilar. Sin embargo, hay una regla importante: **debes trasladar los discos al tercer poste moviendo un disco a la vez y sin colocar un disco grande encima de uno pequeño**. Ahora implementarás tu propia versión de este rompecabezas.\n",
    "\n",
    "![](../img/hanoi-1.png)\n",
    "\n",
    "La clase `TorreDeHanoi` está conformada por 3 pilares, donde cada uno es un *stack*, ya que solo puedes añadir y quitar discos por un extremo de cada pilar. La clase viene con los métodos `__init__` y `__str__` implementados, por lo que puedes ver el estado inicial de la torre. Sin embargo, **solo con métodos de *stacks***, deberás implementar el método `mover_disco`, que recibe el número del pilar desde donde sale el disco y el número del pilar al que llega un disco. Cabe destacar que el tamaño de un disco está representado por el número contenido en el pilar (por ejemplo, el 6 representa al disco más grande y el 1 al más pequeño). Una vez que implementes este método, te retamos a hacer una función que ocupe las operaciones de *stacks* necesarias para mover el disco. **Recuerda no colocar un disco grande encima de uno pequeño**.\n",
    "\n",
    "![](../img/hanoi-2.png)\n",
    "\n",
    "**PS:** Además, te retamos a: (1) verificar que un movimiento es válido (no queda un disco grande sobre uno pequeño) y (2) crear una función que verifique si el rompecabezas fue completado correctamente . "
   ]
  },
  {
   "cell_type": "code",
   "execution_count": 267,
   "metadata": {},
   "outputs": [],
   "source": [
    "class TorreDeHanoi:\n",
    "    \n",
    "    def __init__(self):\n",
    "        self.pilar_1 = [6, 5, 4, 3, 2, 1]\n",
    "        self.pilar_2 = []\n",
    "        self.pilar_3 = []\n",
    "        self.pilares = self.pilar_1, self.pilar_2, self.pilar_3\n",
    "        \n",
    "    def mover_disco(self, pilar_origen, pilar_destino):\n",
    "        pilar_origen -= 1\n",
    "        pilar_destino -= 1\n",
    "        # Recuerda que debes sacar el elemento que está más arriba en el pilar de origen\n",
    "        # y colocarlo en lo más alto del pilar de destino\n",
    "        # Sacar el disco\n",
    "        \n",
    "        origen = self.pilares[pilar_origen].pop() #Sacamos el disco del origen\n",
    "\n",
    "        #Si no hay pilares en el destino, el movimiento es valido\n",
    "        if(len(self.pilares[pilar_destino]) == 0):\n",
    "            destino = self.pilares[pilar_destino].append(origen) #Ponemos el disco en el destino\n",
    "        #Si existe un pilar, se debe revisar si el valor del top es mayor que el pilar de origen\n",
    "        elif(self.pilares[pilar_destino][-1] > origen):\n",
    "            destino = self.pilares[pilar_destino].append(origen)\n",
    "        #Si no se cumple ninguna de las condiciones, el movimiento no es valido\n",
    "        else:\n",
    "            print(\"El movimiento no es valido\")\n",
    "            self.pilares[pilar_origen].append[origen]\n",
    "    \n",
    "    def __str__(self):\n",
    "        output = \"\"\n",
    "        # Range termina con -1 para recorrer al revés\n",
    "        for i in range(5, -1, -1):\n",
    "            fila = \" \"  # Armamos una fila a la vez, desde arriba\n",
    "            # Pilar 1\n",
    "            if len(self.pilar_1) > i:\n",
    "                fila += str(self.pilar_1[i]) + \" \"\n",
    "            else:\n",
    "                fila += \"x \"\n",
    "            # Pilar 2\n",
    "            if len(self.pilar_2) > i:\n",
    "                fila += str(self.pilar_2[i]) + \" \"\n",
    "            else:\n",
    "                fila += \"x \"\n",
    "            # Pilar 3\n",
    "            if len(self.pilar_3) > i:\n",
    "                fila += str(self.pilar_3[i]) + \" \"\n",
    "            else:\n",
    "                fila += \"x \"\n",
    "            output += fila + \"\\n\"\n",
    "        output += \"=\" * 7 + \"\\n\"\n",
    "        return output"
   ]
  },
  {
   "cell_type": "code",
   "execution_count": 268,
   "metadata": {},
   "outputs": [
    {
     "name": "stdout",
     "output_type": "stream",
     "text": [
      " 1 x x \n",
      " 2 x x \n",
      " 3 x x \n",
      " 4 x x \n",
      " 5 x x \n",
      " 6 x x \n",
      "=======\n",
      "\n"
     ]
    }
   ],
   "source": [
    "torre_de_hanoi = TorreDeHanoi()\n",
    "print(torre_de_hanoi)"
   ]
  },
  {
   "cell_type": "code",
   "execution_count": 274,
   "metadata": {},
   "outputs": [
    {
     "name": "stdout",
     "output_type": "stream",
     "text": [
      "Bienvenido a la torre de hanoi, puede rendirse ingresando '-1'\n",
      "\n"
     ]
    },
    {
     "ename": "KeyboardInterrupt",
     "evalue": "Interrupted by user",
     "output_type": "error",
     "traceback": [
      "\u001b[1;31m---------------------------------------------------------------------------\u001b[0m",
      "\u001b[1;31mKeyboardInterrupt\u001b[0m                         Traceback (most recent call last)",
      "\u001b[1;32mc:\\Users\\fabri\\OneDrive\\Documentos\\GitHub\\contenidos\\semana-01\\ejercicios_propuestos\\ejercicios_propuestos.ipynb Cell 12'\u001b[0m in \u001b[0;36m<cell line: 5>\u001b[1;34m()\u001b[0m\n\u001b[0;32m      <a href='vscode-notebook-cell:/c%3A/Users/fabri/OneDrive/Documentos/GitHub/contenidos/semana-01/ejercicios_propuestos/ejercicios_propuestos.ipynb#ch0000011?line=3'>4</a>\u001b[0m b \u001b[39m=\u001b[39m \u001b[39m0\u001b[39m\n\u001b[0;32m      <a href='vscode-notebook-cell:/c%3A/Users/fabri/OneDrive/Documentos/GitHub/contenidos/semana-01/ejercicios_propuestos/ejercicios_propuestos.ipynb#ch0000011?line=4'>5</a>\u001b[0m \u001b[39mwhile\u001b[39;00m a \u001b[39m!=\u001b[39m \u001b[39m-\u001b[39m\u001b[39m1\u001b[39m \u001b[39mor\u001b[39;00m b \u001b[39m!=\u001b[39m \u001b[39m-\u001b[39m\u001b[39m1\u001b[39m:\n\u001b[1;32m----> <a href='vscode-notebook-cell:/c%3A/Users/fabri/OneDrive/Documentos/GitHub/contenidos/semana-01/ejercicios_propuestos/ejercicios_propuestos.ipynb#ch0000011?line=5'>6</a>\u001b[0m     a \u001b[39m=\u001b[39m \u001b[39mint\u001b[39m(\u001b[39minput\u001b[39;49m(\u001b[39m\"\u001b[39;49m\u001b[39mIngrese la columna de origen: 1, 2 o 3: \u001b[39;49m\u001b[39m\"\u001b[39;49m))\n\u001b[0;32m      <a href='vscode-notebook-cell:/c%3A/Users/fabri/OneDrive/Documentos/GitHub/contenidos/semana-01/ejercicios_propuestos/ejercicios_propuestos.ipynb#ch0000011?line=6'>7</a>\u001b[0m     b \u001b[39m=\u001b[39m \u001b[39mint\u001b[39m(\u001b[39minput\u001b[39m(\u001b[39m\"\u001b[39m\u001b[39mIngrese la columna de llegada: 1, 2 o 3: \u001b[39m\u001b[39m\"\u001b[39m))\n\u001b[0;32m      <a href='vscode-notebook-cell:/c%3A/Users/fabri/OneDrive/Documentos/GitHub/contenidos/semana-01/ejercicios_propuestos/ejercicios_propuestos.ipynb#ch0000011?line=7'>8</a>\u001b[0m     torre_de_hanoi\u001b[39m.\u001b[39mmover_disco(a, b) \u001b[39m# Del pilar 1 al pilar 2\u001b[39;00m\n",
      "File \u001b[1;32m~\\AppData\\Local\\Programs\\Python\\Python38\\lib\\site-packages\\ipykernel\\kernelbase.py:1075\u001b[0m, in \u001b[0;36mKernel.raw_input\u001b[1;34m(self, prompt)\u001b[0m\n\u001b[0;32m   <a href='file:///c%3A/Users/fabri/AppData/Local/Programs/Python/Python38/lib/site-packages/ipykernel/kernelbase.py?line=1070'>1071</a>\u001b[0m \u001b[39mif\u001b[39;00m \u001b[39mnot\u001b[39;00m \u001b[39mself\u001b[39m\u001b[39m.\u001b[39m_allow_stdin:\n\u001b[0;32m   <a href='file:///c%3A/Users/fabri/AppData/Local/Programs/Python/Python38/lib/site-packages/ipykernel/kernelbase.py?line=1071'>1072</a>\u001b[0m     \u001b[39mraise\u001b[39;00m StdinNotImplementedError(\n\u001b[0;32m   <a href='file:///c%3A/Users/fabri/AppData/Local/Programs/Python/Python38/lib/site-packages/ipykernel/kernelbase.py?line=1072'>1073</a>\u001b[0m         \u001b[39m\"\u001b[39m\u001b[39mraw_input was called, but this frontend does not support input requests.\u001b[39m\u001b[39m\"\u001b[39m\n\u001b[0;32m   <a href='file:///c%3A/Users/fabri/AppData/Local/Programs/Python/Python38/lib/site-packages/ipykernel/kernelbase.py?line=1073'>1074</a>\u001b[0m     )\n\u001b[1;32m-> <a href='file:///c%3A/Users/fabri/AppData/Local/Programs/Python/Python38/lib/site-packages/ipykernel/kernelbase.py?line=1074'>1075</a>\u001b[0m \u001b[39mreturn\u001b[39;00m \u001b[39mself\u001b[39;49m\u001b[39m.\u001b[39;49m_input_request(\n\u001b[0;32m   <a href='file:///c%3A/Users/fabri/AppData/Local/Programs/Python/Python38/lib/site-packages/ipykernel/kernelbase.py?line=1075'>1076</a>\u001b[0m     \u001b[39mstr\u001b[39;49m(prompt),\n\u001b[0;32m   <a href='file:///c%3A/Users/fabri/AppData/Local/Programs/Python/Python38/lib/site-packages/ipykernel/kernelbase.py?line=1076'>1077</a>\u001b[0m     \u001b[39mself\u001b[39;49m\u001b[39m.\u001b[39;49m_parent_ident[\u001b[39m\"\u001b[39;49m\u001b[39mshell\u001b[39;49m\u001b[39m\"\u001b[39;49m],\n\u001b[0;32m   <a href='file:///c%3A/Users/fabri/AppData/Local/Programs/Python/Python38/lib/site-packages/ipykernel/kernelbase.py?line=1077'>1078</a>\u001b[0m     \u001b[39mself\u001b[39;49m\u001b[39m.\u001b[39;49mget_parent(\u001b[39m\"\u001b[39;49m\u001b[39mshell\u001b[39;49m\u001b[39m\"\u001b[39;49m),\n\u001b[0;32m   <a href='file:///c%3A/Users/fabri/AppData/Local/Programs/Python/Python38/lib/site-packages/ipykernel/kernelbase.py?line=1078'>1079</a>\u001b[0m     password\u001b[39m=\u001b[39;49m\u001b[39mFalse\u001b[39;49;00m,\n\u001b[0;32m   <a href='file:///c%3A/Users/fabri/AppData/Local/Programs/Python/Python38/lib/site-packages/ipykernel/kernelbase.py?line=1079'>1080</a>\u001b[0m )\n",
      "File \u001b[1;32m~\\AppData\\Local\\Programs\\Python\\Python38\\lib\\site-packages\\ipykernel\\kernelbase.py:1120\u001b[0m, in \u001b[0;36mKernel._input_request\u001b[1;34m(self, prompt, ident, parent, password)\u001b[0m\n\u001b[0;32m   <a href='file:///c%3A/Users/fabri/AppData/Local/Programs/Python/Python38/lib/site-packages/ipykernel/kernelbase.py?line=1116'>1117</a>\u001b[0m             \u001b[39mbreak\u001b[39;00m\n\u001b[0;32m   <a href='file:///c%3A/Users/fabri/AppData/Local/Programs/Python/Python38/lib/site-packages/ipykernel/kernelbase.py?line=1117'>1118</a>\u001b[0m \u001b[39mexcept\u001b[39;00m \u001b[39mKeyboardInterrupt\u001b[39;00m:\n\u001b[0;32m   <a href='file:///c%3A/Users/fabri/AppData/Local/Programs/Python/Python38/lib/site-packages/ipykernel/kernelbase.py?line=1118'>1119</a>\u001b[0m     \u001b[39m# re-raise KeyboardInterrupt, to truncate traceback\u001b[39;00m\n\u001b[1;32m-> <a href='file:///c%3A/Users/fabri/AppData/Local/Programs/Python/Python38/lib/site-packages/ipykernel/kernelbase.py?line=1119'>1120</a>\u001b[0m     \u001b[39mraise\u001b[39;00m \u001b[39mKeyboardInterrupt\u001b[39;00m(\u001b[39m\"\u001b[39m\u001b[39mInterrupted by user\u001b[39m\u001b[39m\"\u001b[39m) \u001b[39mfrom\u001b[39;00m \u001b[39mNone\u001b[39m\n\u001b[0;32m   <a href='file:///c%3A/Users/fabri/AppData/Local/Programs/Python/Python38/lib/site-packages/ipykernel/kernelbase.py?line=1120'>1121</a>\u001b[0m \u001b[39mexcept\u001b[39;00m \u001b[39mException\u001b[39;00m:\n\u001b[0;32m   <a href='file:///c%3A/Users/fabri/AppData/Local/Programs/Python/Python38/lib/site-packages/ipykernel/kernelbase.py?line=1121'>1122</a>\u001b[0m     \u001b[39mself\u001b[39m\u001b[39m.\u001b[39mlog\u001b[39m.\u001b[39mwarning(\u001b[39m\"\u001b[39m\u001b[39mInvalid Message:\u001b[39m\u001b[39m\"\u001b[39m, exc_info\u001b[39m=\u001b[39m\u001b[39mTrue\u001b[39;00m)\n",
      "\u001b[1;31mKeyboardInterrupt\u001b[0m: Interrupted by user"
     ]
    }
   ],
   "source": [
    "\n",
    "print(\"Bienvenido a la torre de hanoi, puede rendirse ingresando \\'-1\\'\")\n",
    "print()\n",
    "a = 0\n",
    "b = 0\n",
    "while a != -1 or b != -1:\n",
    "    a = int(input(\"Ingrese la columna de origen: 1, 2 o 3: \"))\n",
    "    b = int(input(\"Ingrese la columna de llegada: 1, 2 o 3: \"))\n",
    "    torre_de_hanoi.mover_disco(a, b) # Del pilar 1 al pilar 2\n",
    "    print(torre_de_hanoi)"
   ]
  },
  {
   "cell_type": "markdown",
   "metadata": {},
   "source": [
    "## 4. Colas"
   ]
  },
  {
   "cell_type": "markdown",
   "metadata": {},
   "source": [
    "### Ejercicio 4.1: Comandos de Git"
   ]
  },
  {
   "cell_type": "markdown",
   "metadata": {},
   "source": [
    "En este ejercicio debes intentar simular los comandos básicos de `git`: `add`, `commit` y `push` usando, para cada una de ellos, alguna estructura básica. Para esto, se te entrega la clase `Repositorio` en donde debes completar los siguientes métodos.\n",
    "\n",
    "- `git add`: No debe dejar que suba a tu repositorio **archivos repetidos**.\n",
    "- `git commit`: Aquí confirmas los cambios que indicaste con `git add` y los dejas \"*en espera*\" según una lógica **FIFO** ( _First in, First out_ ). \n",
    "- `git push`: Se realizan los cambios pedidos en el repositorio.\n",
    "\n",
    "Por simplicidad considera que cada cambio será agregar o eliminar archivos, y no modificaciones a un archivo.\n",
    "\n",
    "Puedes empezar con el siguiente código:"
   ]
  },
  {
   "cell_type": "code",
   "execution_count": 287,
   "metadata": {},
   "outputs": [
    {
     "name": "stdout",
     "output_type": "stream",
     "text": [
      "Agregado el README :D\n",
      "subiendo datos\n"
     ]
    }
   ],
   "source": [
    "from collections import deque\n",
    "\n",
    "class Repositorio:\n",
    "    \n",
    "    def __init__(self, archivos=[]):\n",
    "        self.archivos_remotos = []\n",
    "        self.archivos_locales = archivos\n",
    "        self.cola_espera = deque()\n",
    "        #puedes agregar más atributos si lo estimas necesario ;)\n",
    "        \n",
    "    def git_add(self, archivos):\n",
    "        \n",
    "        if(archivos not in self.archivos_locales):\n",
    "            self.archivos_locales.append(archivos)\n",
    "\n",
    "    def git_commit(self, comentario):\n",
    "        print(comentario)\n",
    "        for elemento in self.archivos_locales:\n",
    "            self.cola_espera.append(elemento)\n",
    "        #debes completar aquí\n",
    "        \n",
    "    \n",
    "    def git_push(self):\n",
    "        #debes completar aquí\n",
    "        while(len(self.cola_espera) != 0):\n",
    "            elem = self.cola_espera.popleft()\n",
    "            self.archivos_remotos.append(elem)\n",
    "\n",
    "\n",
    "if __name__ == \"__main__\":\n",
    "    mi_repo = Repositorio([\"main.py\", \"windows.py\", \"user.txt\"])\n",
    "    mi_repo.git_add('README.md')\n",
    "    mi_repo.git_commit('Agregado el README :D')\n",
    "    mi_repo.git_push()\n",
    "    mi_repo.git_add([\"data.json\", \"client.py\", \"user.txt\"])\n",
    "    mi_repo.git_commit(\"subiendo datos\")\n",
    "    mi_repo.git_push()\n",
    "    "
   ]
  },
  {
   "cell_type": "markdown",
   "metadata": {},
   "source": [
    "## 5. Diccionarios"
   ]
  },
  {
   "cell_type": "markdown",
   "metadata": {},
   "source": [
    "### Ejercicio 5.1: Indice de consonantes en el abecedario"
   ]
  },
  {
   "cell_type": "markdown",
   "metadata": {},
   "source": [
    "A continuación, se te entrega código que tiene dentro de la variable `letras` un *string* que contiene en orden los caracteres del idioma inglés en orden, desde la `'a'` hasta la `'z'`. Con eso, sigue las siguientes instrucciones:\n",
    "\n",
    "- Crea un diccionario vacío\n",
    "- Por cada caracter en `letras`, crea una asociación en tu diccionario, donde el valor es el caracter y la llave es el índice numérico donde se ubica ese caracter en `letras`. Por ejemplo, primero se agregaría la asociación `0: 'a'`, ya que la `'a'` es el primer caracter en `letras`.\n",
    "- Una vez todas creadas, elimina las asociaciones cuyas llaves sean múltiplos de 3.\n",
    "- Imprime el diccionario que resulta."
   ]
  },
  {
   "cell_type": "code",
   "execution_count": 294,
   "metadata": {},
   "outputs": [
    {
     "name": "stdout",
     "output_type": "stream",
     "text": [
      "abcdefghijklmnopqrstuvwxyz\n",
      "{1: 'b', 2: 'c', 4: 'e', 5: 'f', 7: 'h', 8: 'i', 10: 'k', 11: 'l', 13: 'n', 14: 'o', 16: 'q', 17: 'r', 19: 't', 20: 'u', 22: 'w', 23: 'x', 25: 'z'}\n"
     ]
    }
   ],
   "source": [
    "from string import ascii_lowercase as letras\n",
    "\n",
    "print(letras)\n",
    "\n",
    "# Completar\n",
    "dic = dict()\n",
    "for i in range(len(letras)):\n",
    "    dic[i] = letras[i]\n",
    "for i in range(len(dic)):\n",
    "    if i%3==0:\n",
    "        dic.pop(i)\n",
    "print(dic)"
   ]
  },
  {
   "cell_type": "markdown",
   "metadata": {},
   "source": [
    "### Ejercicio 5.2: Categorizar por grupo"
   ]
  },
  {
   "cell_type": "markdown",
   "metadata": {},
   "source": [
    "A continuación, se te entrega código incompleto. Hasta el momento, crea una lista (`personas`) de 100 instancias una tupla `Persona` que poseen `edad` y `nacionalidad` cada una. Debes crear dos diccionarios: `personas_por_paises` y `personas_por_edad`, y poblarlos tal  que:\n",
    "\n",
    "- `personas_por_paises` contenga asociaciones donde las llaves son nombres de las distintas nacionalidades posibles para las instancias de `Persona`, y el valor asociado es una lista con aquellas instancias en `personas` que tienen ese valor de `nacionalidad`.\n",
    "- `personas_por_edad` similarmente contenga listas de instancias en `personas` pero categorizados por rangos de edades en las llaves. Específicamente, las llaves deben ser tuplas que indiquen los extremos de dichos rangos que vayan de 10 en 10. Es decir: `(0, 10)`,  `(11, 20)`, ..., `(91, 100)`; son llaves del diccionario.\n",
    "\n",
    "**Observación**: No hay una única forma de generar lo pedido, intenta hacerlo como puedas inicialmente, y luego analiza si lo puedes alterar o usar otro tipo de definición de diccionario distinta."
   ]
  },
  {
   "cell_type": "code",
   "execution_count": 440,
   "metadata": {},
   "outputs": [
    {
     "name": "stdout",
     "output_type": "stream",
     "text": [
      "[Persona(edad=18, nacionalidad='Argentina')]\n"
     ]
    }
   ],
   "source": [
    "from random import choice, randint\n",
    "from collections import namedtuple, defaultdict # Puedes usar defaultdict si lo deseas\n",
    "\n",
    "\n",
    "paises = ['Argentina', 'Bolivia', 'Chile', 'Perú']\n",
    "Persona = namedtuple('Persona', ['edad', 'nacionalidad'])\n",
    "\n",
    "personas = []\n",
    "for i in range(100):\n",
    "    nueva_persona = Persona(randint(0, 100), choice(paises))\n",
    "    personas.append(nueva_persona)\n",
    "\n",
    "personas_por_paises = dict()\n",
    "personas_por_edad = dict()\n",
    "\n",
    "for p in personas:\n",
    "    if(p.nacionalidad not in personas_por_paises): #Si la nacionalidad no existe en el diccionario\n",
    "        personas_por_paises[p.nacionalidad] = []  #Se registra la nacionalidad en el diccionario y se crea una lista vacia\n",
    "    personas_por_paises[p.nacionalidad].append(p) #Se adjunta la persona a la lista con la nacionalidad correspondiente\n",
    "\n",
    "    if(p.edad not in personas_por_edad): #Si la edad no existe en el diccionario\n",
    "        personas_por_edad[p.edad] = [] #Se registra la edad en el diccionario y se crea una lista vacia\n",
    "    personas_por_edad[p.edad].append(p) #Se adjunta la persona a la lista con la edad correspondiente\n",
    "\n",
    "print(personas_por_paises)\n",
    "print(personas_por_edad)"
   ]
  },
  {
   "cell_type": "markdown",
   "metadata": {},
   "source": [
    "### Ejercicio 5.3: Diccionarios y funciones"
   ]
  },
  {
   "cell_type": "markdown",
   "metadata": {},
   "source": [
    "El siguiente código tiene lo necesario para simular el movimiento de un objeto en una matriz de 3 por 3. La variable `tablero` es una lista de listas con el contenido del tablero matricial, donde `'o'` representa el objeto en movimiento, y `pos` es un posición actual en la matriz. Por otro lado, las funciones `bajar`, `subir`, `derecha` e `izquierda` generan los cambios en `tablero` y `pos` para mover el objeto correspondientemente.\n",
    "\n",
    "La última sección genera interacción con el usuario mediante `input`, donde al recibir los caracteres `'a'`, `'s'`, `'d'`, `'w'` y `'q'` genera una acción. Ya está definido que al ingresar `'q'`, se termina el programa. Debes completar el programa para que al ingresar `'a'` el objeto se mueva a la izquierda, al ingresar `'d'` el objeto se mueva a la derecha, al ingresar `'s'` el objeto se mueva hacia abajo, y al ingresar `'w'` el objeto se mueva hacia arriba.\n",
    "\n",
    "**Observación:** Es fácil el ejercicio utilizando más sentencias `if-elif-else`. Intenta no usarlas y utilizar un diccionario para resolverlo."
   ]
  },
  {
   "cell_type": "code",
   "execution_count": 446,
   "metadata": {},
   "outputs": [
    {
     "name": "stdout",
     "output_type": "stream",
     "text": [
      "---\n",
      "-o-\n",
      "---\n"
     ]
    },
    {
     "ename": "KeyboardInterrupt",
     "evalue": "Interrupted by user",
     "output_type": "error",
     "traceback": [
      "\u001b[1;31m---------------------------------------------------------------------------\u001b[0m",
      "\u001b[1;31mKeyboardInterrupt\u001b[0m                         Traceback (most recent call last)",
      "\u001b[1;32mc:\\Users\\fabri\\OneDrive\\Documentos\\GitHub\\contenidos\\semana-01\\ejercicios_propuestos\\ejercicios_propuestos.ipynb Cell 26'\u001b[0m in \u001b[0;36m<cell line: 32>\u001b[1;34m()\u001b[0m\n\u001b[0;32m     <a href='vscode-notebook-cell:/c%3A/Users/fabri/OneDrive/Documentos/GitHub/contenidos/semana-01/ejercicios_propuestos/ejercicios_propuestos.ipynb#ch0000025?line=31'>32</a>\u001b[0m \u001b[39mfor\u001b[39;00m fila \u001b[39min\u001b[39;00m tablero:\n\u001b[0;32m     <a href='vscode-notebook-cell:/c%3A/Users/fabri/OneDrive/Documentos/GitHub/contenidos/semana-01/ejercicios_propuestos/ejercicios_propuestos.ipynb#ch0000025?line=32'>33</a>\u001b[0m     \u001b[39mprint\u001b[39m(\u001b[39m\"\u001b[39m\u001b[39m\"\u001b[39m\u001b[39m.\u001b[39mjoin(fila))\n\u001b[1;32m---> <a href='vscode-notebook-cell:/c%3A/Users/fabri/OneDrive/Documentos/GitHub/contenidos/semana-01/ejercicios_propuestos/ejercicios_propuestos.ipynb#ch0000025?line=33'>34</a>\u001b[0m accion \u001b[39m=\u001b[39m \u001b[39minput\u001b[39;49m(\u001b[39m\"\u001b[39;49m\u001b[39mIngresa acción: \u001b[39;49m\u001b[39m\"\u001b[39;49m)\n\u001b[0;32m     <a href='vscode-notebook-cell:/c%3A/Users/fabri/OneDrive/Documentos/GitHub/contenidos/semana-01/ejercicios_propuestos/ejercicios_propuestos.ipynb#ch0000025?line=34'>35</a>\u001b[0m \u001b[39mif\u001b[39;00m accion \u001b[39min\u001b[39;00m \u001b[39m\"\u001b[39m\u001b[39masdw\u001b[39m\u001b[39m\"\u001b[39m:\n\u001b[0;32m     <a href='vscode-notebook-cell:/c%3A/Users/fabri/OneDrive/Documentos/GitHub/contenidos/semana-01/ejercicios_propuestos/ejercicios_propuestos.ipynb#ch0000025?line=35'>36</a>\u001b[0m     dic[accion]\n",
      "File \u001b[1;32m~\\AppData\\Local\\Programs\\Python\\Python38\\lib\\site-packages\\ipykernel\\kernelbase.py:1075\u001b[0m, in \u001b[0;36mKernel.raw_input\u001b[1;34m(self, prompt)\u001b[0m\n\u001b[0;32m   <a href='file:///c%3A/Users/fabri/AppData/Local/Programs/Python/Python38/lib/site-packages/ipykernel/kernelbase.py?line=1070'>1071</a>\u001b[0m \u001b[39mif\u001b[39;00m \u001b[39mnot\u001b[39;00m \u001b[39mself\u001b[39m\u001b[39m.\u001b[39m_allow_stdin:\n\u001b[0;32m   <a href='file:///c%3A/Users/fabri/AppData/Local/Programs/Python/Python38/lib/site-packages/ipykernel/kernelbase.py?line=1071'>1072</a>\u001b[0m     \u001b[39mraise\u001b[39;00m StdinNotImplementedError(\n\u001b[0;32m   <a href='file:///c%3A/Users/fabri/AppData/Local/Programs/Python/Python38/lib/site-packages/ipykernel/kernelbase.py?line=1072'>1073</a>\u001b[0m         \u001b[39m\"\u001b[39m\u001b[39mraw_input was called, but this frontend does not support input requests.\u001b[39m\u001b[39m\"\u001b[39m\n\u001b[0;32m   <a href='file:///c%3A/Users/fabri/AppData/Local/Programs/Python/Python38/lib/site-packages/ipykernel/kernelbase.py?line=1073'>1074</a>\u001b[0m     )\n\u001b[1;32m-> <a href='file:///c%3A/Users/fabri/AppData/Local/Programs/Python/Python38/lib/site-packages/ipykernel/kernelbase.py?line=1074'>1075</a>\u001b[0m \u001b[39mreturn\u001b[39;00m \u001b[39mself\u001b[39;49m\u001b[39m.\u001b[39;49m_input_request(\n\u001b[0;32m   <a href='file:///c%3A/Users/fabri/AppData/Local/Programs/Python/Python38/lib/site-packages/ipykernel/kernelbase.py?line=1075'>1076</a>\u001b[0m     \u001b[39mstr\u001b[39;49m(prompt),\n\u001b[0;32m   <a href='file:///c%3A/Users/fabri/AppData/Local/Programs/Python/Python38/lib/site-packages/ipykernel/kernelbase.py?line=1076'>1077</a>\u001b[0m     \u001b[39mself\u001b[39;49m\u001b[39m.\u001b[39;49m_parent_ident[\u001b[39m\"\u001b[39;49m\u001b[39mshell\u001b[39;49m\u001b[39m\"\u001b[39;49m],\n\u001b[0;32m   <a href='file:///c%3A/Users/fabri/AppData/Local/Programs/Python/Python38/lib/site-packages/ipykernel/kernelbase.py?line=1077'>1078</a>\u001b[0m     \u001b[39mself\u001b[39;49m\u001b[39m.\u001b[39;49mget_parent(\u001b[39m\"\u001b[39;49m\u001b[39mshell\u001b[39;49m\u001b[39m\"\u001b[39;49m),\n\u001b[0;32m   <a href='file:///c%3A/Users/fabri/AppData/Local/Programs/Python/Python38/lib/site-packages/ipykernel/kernelbase.py?line=1078'>1079</a>\u001b[0m     password\u001b[39m=\u001b[39;49m\u001b[39mFalse\u001b[39;49;00m,\n\u001b[0;32m   <a href='file:///c%3A/Users/fabri/AppData/Local/Programs/Python/Python38/lib/site-packages/ipykernel/kernelbase.py?line=1079'>1080</a>\u001b[0m )\n",
      "File \u001b[1;32m~\\AppData\\Local\\Programs\\Python\\Python38\\lib\\site-packages\\ipykernel\\kernelbase.py:1120\u001b[0m, in \u001b[0;36mKernel._input_request\u001b[1;34m(self, prompt, ident, parent, password)\u001b[0m\n\u001b[0;32m   <a href='file:///c%3A/Users/fabri/AppData/Local/Programs/Python/Python38/lib/site-packages/ipykernel/kernelbase.py?line=1116'>1117</a>\u001b[0m             \u001b[39mbreak\u001b[39;00m\n\u001b[0;32m   <a href='file:///c%3A/Users/fabri/AppData/Local/Programs/Python/Python38/lib/site-packages/ipykernel/kernelbase.py?line=1117'>1118</a>\u001b[0m \u001b[39mexcept\u001b[39;00m \u001b[39mKeyboardInterrupt\u001b[39;00m:\n\u001b[0;32m   <a href='file:///c%3A/Users/fabri/AppData/Local/Programs/Python/Python38/lib/site-packages/ipykernel/kernelbase.py?line=1118'>1119</a>\u001b[0m     \u001b[39m# re-raise KeyboardInterrupt, to truncate traceback\u001b[39;00m\n\u001b[1;32m-> <a href='file:///c%3A/Users/fabri/AppData/Local/Programs/Python/Python38/lib/site-packages/ipykernel/kernelbase.py?line=1119'>1120</a>\u001b[0m     \u001b[39mraise\u001b[39;00m \u001b[39mKeyboardInterrupt\u001b[39;00m(\u001b[39m\"\u001b[39m\u001b[39mInterrupted by user\u001b[39m\u001b[39m\"\u001b[39m) \u001b[39mfrom\u001b[39;00m \u001b[39mNone\u001b[39m\n\u001b[0;32m   <a href='file:///c%3A/Users/fabri/AppData/Local/Programs/Python/Python38/lib/site-packages/ipykernel/kernelbase.py?line=1120'>1121</a>\u001b[0m \u001b[39mexcept\u001b[39;00m \u001b[39mException\u001b[39;00m:\n\u001b[0;32m   <a href='file:///c%3A/Users/fabri/AppData/Local/Programs/Python/Python38/lib/site-packages/ipykernel/kernelbase.py?line=1121'>1122</a>\u001b[0m     \u001b[39mself\u001b[39m\u001b[39m.\u001b[39mlog\u001b[39m.\u001b[39mwarning(\u001b[39m\"\u001b[39m\u001b[39mInvalid Message:\u001b[39m\u001b[39m\"\u001b[39m, exc_info\u001b[39m=\u001b[39m\u001b[39mTrue\u001b[39;00m)\n",
      "\u001b[1;31mKeyboardInterrupt\u001b[0m: Interrupted by user"
     ]
    }
   ],
   "source": [
    "tablero = [['-', '-', '-'], ['-', 'o', '-'], ['-', '-', '-']]\n",
    "pos = (1, 1)\n",
    "dic = {\"w\":subir, \"s\":bajar, \"a\":izquierda, \"d\":derecha}\n",
    "\n",
    "def bajar(tablero, pos):\n",
    "    tablero[pos[1]][pos[0]] = '-'\n",
    "    pos = (pos[0], min(pos[1] + 1, 2))\n",
    "    tablero[pos[1]][pos[0]] = 'o'\n",
    "    return tablero, pos\n",
    "\n",
    "def subir(tablero, pos):\n",
    "    tablero[pos[1]][pos[0]] = '-'\n",
    "    pos = (pos[0], max(pos[1] - 1, 0))\n",
    "    tablero[pos[1]][pos[0]] = 'o'\n",
    "    return tablero, pos\n",
    "    \n",
    "def derecha(tablero, pos):\n",
    "    tablero[pos[1]][pos[0]] = '-'\n",
    "    pos = (min(pos[0] + 1, 2), pos[1])\n",
    "    tablero[pos[1]][pos[0]] = 'o'\n",
    "    return tablero, pos\n",
    "\n",
    "def izquierda(tablero, pos):\n",
    "    tablero[pos[1]][pos[0]] = '-'\n",
    "    pos = (max(pos[0] - 1, 0), pos[1])\n",
    "    tablero[pos[1]][pos[0]] = 'o'\n",
    "    return tablero, pos\n",
    "\n",
    "# Puedes rellenar aquí\n",
    "\n",
    "while True:\n",
    "    for fila in tablero:\n",
    "        print(\"\".join(fila))\n",
    "    accion = input(\"Ingresa acción: \")\n",
    "    if accion in \"asdw\":\n",
    "        dic[accion]\n",
    "    elif accion == \"q\":\n",
    "        print(\"¡Adios!\")\n",
    "        break\n",
    "    else:\n",
    "        print(\"Inválido\")"
   ]
  },
  {
   "cell_type": "markdown",
   "metadata": {},
   "source": [
    "## 6. *Sets*"
   ]
  },
  {
   "cell_type": "markdown",
   "metadata": {},
   "source": [
    "### Ejercicio 6.1: *Set* de números aleatorios"
   ]
  },
  {
   "cell_type": "markdown",
   "metadata": {},
   "source": [
    "Crea un *set* vacío, y agrega 100 veces un número aleatorio entre 0 y 100. Luego imprime el *set* que resulta. Una vez resuelto, intenta generar el mismo resultado utilizando una estructura por comprensión."
   ]
  },
  {
   "cell_type": "code",
   "execution_count": null,
   "metadata": {},
   "outputs": [],
   "source": [
    "from random import randint\n",
    "\n",
    "# Completar"
   ]
  },
  {
   "cell_type": "markdown",
   "metadata": {},
   "source": [
    "### Ejercicio 6.2: Eficiencia de revisión de pertenencia en *sets*"
   ]
  },
  {
   "cell_type": "markdown",
   "metadata": {},
   "source": [
    "La intención es extender el experimento del material que revisa el tiempo que demora buscar cierto elemento en listas y conjuntos muy grandes. En ese ejemplo, siempre se buscaba el mismo elemento. Ahora, debes extenderlo para probar varios casos, donde el elemento buscado varía. Se te entrega creada una función (`pertenencia_cronometrada`) que cronometra la revisión de pertenencia de un elemento en una estructura cualquiera; y luego está la creación del *set* y lista gigantes. El programa debe generar 100 experimentos donde busca en ambas estructuras un elemento aleatorio cualquiera y cronometra cuanto demora en cada estructura. Finalmente debe mostrar también cuanto tiempo promedio tomó para cada estructura la búsqueda en la totalidad de los experimentos.\n",
    "\n",
    "Una vez completado eso, extiende la simulación para que cada experimento aleatorio nuevo **no se repita**."
   ]
  },
  {
   "cell_type": "code",
   "execution_count": null,
   "metadata": {},
   "outputs": [],
   "source": [
    "from time import time\n",
    "from random import randint\n",
    "\n",
    "def pertenencia_cronometrada(elemento, estructura):\n",
    "    inicio = time()\n",
    "    elemento in estructura\n",
    "    fin = time()\n",
    "    return fin - inicio\n",
    "\n",
    "ELEMENTOS = 10 ** 7\n",
    "lista_gigante = list(range(ELEMENTOS))\n",
    "set_gigante = set(range(ELEMENTOS))\n",
    "\n",
    "# Puedes rellenar aquí\n",
    "\n",
    "for _ in range(100):\n",
    "    \n",
    "    # Completar\n",
    "    \n",
    "    print(f\"set  -- La búsqueda de {elemento} demoró... {tiempo_set:.6f} segundos.\")\n",
    "    print(f\"list -- La búsqueda de {elemento} demoró... {tiempo_lista:.6f} segundos.\")\n",
    "\n",
    "# Puedes rellenar aquí\n",
    "\n",
    "print(f\"set  -- La búsqueda en promedio demoró... {set_promedio:.6f} segundos.\")\n",
    "print(f\"list -- La búsqueda en promedio demoró... {lista_promedio:.6f} segundos.\")\n",
    "print(f\"La búsqueda en la lista fue {lista_promedio / set_promedio:.2f} veces más lenta que en el set.\")"
   ]
  },
  {
   "cell_type": "markdown",
   "metadata": {},
   "source": [
    "## 7. `args` y `kwargs`"
   ]
  },
  {
   "cell_type": "markdown",
   "metadata": {},
   "source": [
    "### Ejercicio 7.1: Múltiples argumentos de `print`"
   ]
  },
  {
   "cell_type": "markdown",
   "metadata": {},
   "source": [
    "`print` puede recibir una cantidad arbitraría de argumentos posicionales e imprirlos todos con cierto por separador *string* entre ellos. Por defecto, ese separador es el espacio `' '`, pero también recibe un parámetro opcional (`sep`) que permite alterar dicho separador. A su vez, recibe un parámetro opcional (`end`) que permite alterar con qué termina lo impreso, cuyo default es `'\\n'` (salto de línea).\n",
    "\n",
    "El siguiente código genera una lista de listas con strings numéricos de dos dígitos. Luego se imprime fila por fila, lo cual resulta en la impresión literal de cada sub-lista contenidas en `numeros`."
   ]
  },
  {
   "cell_type": "code",
   "execution_count": null,
   "metadata": {},
   "outputs": [],
   "source": [
    "numeros = [[str((fila * 10 + columna)).zfill(2) for columna in range(10)] for fila in range(10)]\n",
    "\n",
    "for fila in numeros:\n",
    "    print(fila)"
   ]
  },
  {
   "cell_type": "markdown",
   "metadata": {},
   "source": [
    "Completa las siguientes secciones haciendo uso de los argumentos de `print` para imprimir los números en ciertos formatos. Primero:\n",
    "\n",
    "```\n",
    "00 01 02 03 04 05 06 07 08 09\n",
    "10 11 12 13 14 15 16 17 18 19\n",
    "20 21 22 23 24 25 26 27 28 29\n",
    "30 31 32 33 34 35 36 37 38 39\n",
    "40 41 42 43 44 45 46 47 48 49\n",
    "50 51 52 53 54 55 56 57 58 59\n",
    "60 61 62 63 64 65 66 67 68 69\n",
    "70 71 72 73 74 75 76 77 78 79\n",
    "80 81 82 83 84 85 86 87 88 89\n",
    "90 91 92 93 94 95 96 97 98 99\n",
    "```"
   ]
  },
  {
   "cell_type": "code",
   "execution_count": null,
   "metadata": {},
   "outputs": [],
   "source": [
    "for fila in numeros:\n",
    "    # Completar"
   ]
  },
  {
   "cell_type": "markdown",
   "metadata": {},
   "source": [
    "Luego:\n",
    "```\n",
    "00-01-02-03-04-05-06-07-08-09\n",
    "10-11-12-13-14-15-16-17-18-19\n",
    "20-21-22-23-24-25-26-27-28-29\n",
    "30-31-32-33-34-35-36-37-38-39\n",
    "40-41-42-43-44-45-46-47-48-49\n",
    "50-51-52-53-54-55-56-57-58-59\n",
    "60-61-62-63-64-65-66-67-68-69\n",
    "70-71-72-73-74-75-76-77-78-79\n",
    "80-81-82-83-84-85-86-87-88-89\n",
    "90-91-92-93-94-95-96-97-98-99\n",
    "```"
   ]
  },
  {
   "cell_type": "code",
   "execution_count": null,
   "metadata": {},
   "outputs": [],
   "source": [
    "for fila in numeros:\n",
    "    # Completar"
   ]
  },
  {
   "cell_type": "markdown",
   "metadata": {},
   "source": [
    "Y finalmente:\n",
    "```\n",
    "00>01>02>03>04>05>06>07>08>09>10>11>12>13>14>15>16>17>18>19>20>21>22>23>24>25>26>27>28>29>30>31>32>33>34>35>36>37>38>39>40>41>42>43>44>45>46>47>48>49>50>51>52>53>54>55>56>57>58>59>60>61>62>63>64>65>66>67>68>69>70>71>72>73>74>75>76>77>78>79>80>81>82>83>84>85>86>87>88>89>90>91>92>93>94>95>96>97>98>99>\n",
    "```"
   ]
  },
  {
   "cell_type": "code",
   "execution_count": null,
   "metadata": {},
   "outputs": [],
   "source": [
    "for fila in numeros:\n",
    "    # Completar"
   ]
  },
  {
   "cell_type": "markdown",
   "metadata": {},
   "source": [
    "### Ejercicio 7.2: Clonando diccionarios"
   ]
  },
  {
   "cell_type": "markdown",
   "metadata": {},
   "source": [
    "La función `dict` permite también crear diccionarios vacíos, o con contenido. Particularmente, permite recibir argumentos por palabra clave de tal forma que el nuevo diccionario creado tenga pares llave-valor iguales a la palabra clave y argumento entregado, respectivamente."
   ]
  },
  {
   "cell_type": "code",
   "execution_count": null,
   "metadata": {},
   "outputs": [],
   "source": [
    "diccionario = dict(uno = 1)\n",
    "print(diccionario)"
   ]
  },
  {
   "cell_type": "markdown",
   "metadata": {},
   "source": [
    "Con esto en mente, completa el siguiente espacio de tal forma que `diccionario_2` sea una copia de `diccionario_1`, pero no el mismo objeto. La solución cabe en una línea y no consiste en replicar la definición de `diccionario_1`."
   ]
  },
  {
   "cell_type": "code",
   "execution_count": null,
   "metadata": {},
   "outputs": [],
   "source": [
    "diccionario_1 = {str(i): 0 for i in range(100)}\n",
    "\n",
    "diccionario_2 = # Completar\n",
    "\n",
    "print(f'¿Es el mismo objeto?: {diccionario_1 is diccionario_2}')"
   ]
  }
 ],
 "metadata": {
  "kernelspec": {
   "display_name": "Python 3 (ipykernel)",
   "language": "python",
   "name": "python3"
  },
  "language_info": {
   "codemirror_mode": {
    "name": "ipython",
    "version": 3
   },
   "file_extension": ".py",
   "mimetype": "text/x-python",
   "name": "python",
   "nbconvert_exporter": "python",
   "pygments_lexer": "ipython3",
   "version": "3.8.10"
  }
 },
 "nbformat": 4,
 "nbformat_minor": 4
}
